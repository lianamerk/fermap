{
 "cells": [
  {
   "cell_type": "markdown",
   "id": "652f8ecc-daae-4c9d-967b-3df1b3cc7e7c",
   "metadata": {
    "pycharm": {
     "name": "#%% md\n"
    }
   },
   "source": [
    "# Multiselect map in panel\n",
    "This is a panel with strictly python callback. With the date range"
   ]
  },
  {
   "cell_type": "code",
   "execution_count": 1,
   "id": "5c06f94c-8908-42cc-8354-e24fa490753a",
   "metadata": {
    "pycharm": {
     "name": "#%%\n"
    }
   },
   "outputs": [
    {
     "data": {
      "text/html": [
       "\n",
       "    <div class=\"bk-root\">\n",
       "        <a href=\"https://bokeh.org\" target=\"_blank\" class=\"bk-logo bk-logo-small bk-logo-notebook\"></a>\n",
       "        <span id=\"1003\">Loading BokehJS ...</span>\n",
       "    </div>"
      ]
     },
     "metadata": {},
     "output_type": "display_data"
    },
    {
     "data": {
      "application/javascript": [
       "\n",
       "(function(root) {\n",
       "  function now() {\n",
       "    return new Date();\n",
       "  }\n",
       "\n",
       "  const force = true;\n",
       "\n",
       "  if (typeof root._bokeh_onload_callbacks === \"undefined\" || force === true) {\n",
       "    root._bokeh_onload_callbacks = [];\n",
       "    root._bokeh_is_loading = undefined;\n",
       "  }\n",
       "\n",
       "  const JS_MIME_TYPE = 'application/javascript';\n",
       "  const HTML_MIME_TYPE = 'text/html';\n",
       "  const EXEC_MIME_TYPE = 'application/vnd.bokehjs_exec.v0+json';\n",
       "  const CLASS_NAME = 'output_bokeh rendered_html';\n",
       "\n",
       "  /**\n",
       "   * Render data to the DOM node\n",
       "   */\n",
       "  function render(props, node) {\n",
       "    const script = document.createElement(\"script\");\n",
       "    node.appendChild(script);\n",
       "  }\n",
       "\n",
       "  /**\n",
       "   * Handle when an output is cleared or removed\n",
       "   */\n",
       "  function handleClearOutput(event, handle) {\n",
       "    const cell = handle.cell;\n",
       "\n",
       "    const id = cell.output_area._bokeh_element_id;\n",
       "    const server_id = cell.output_area._bokeh_server_id;\n",
       "    // Clean up Bokeh references\n",
       "    if (id != null && id in Bokeh.index) {\n",
       "      Bokeh.index[id].model.document.clear();\n",
       "      delete Bokeh.index[id];\n",
       "    }\n",
       "\n",
       "    if (server_id !== undefined) {\n",
       "      // Clean up Bokeh references\n",
       "      const cmd_clean = \"from bokeh.io.state import curstate; print(curstate().uuid_to_server['\" + server_id + \"'].get_sessions()[0].document.roots[0]._id)\";\n",
       "      cell.notebook.kernel.execute(cmd_clean, {\n",
       "        iopub: {\n",
       "          output: function(msg) {\n",
       "            const id = msg.content.text.trim();\n",
       "            if (id in Bokeh.index) {\n",
       "              Bokeh.index[id].model.document.clear();\n",
       "              delete Bokeh.index[id];\n",
       "            }\n",
       "          }\n",
       "        }\n",
       "      });\n",
       "      // Destroy server and session\n",
       "      const cmd_destroy = \"import bokeh.io.notebook as ion; ion.destroy_server('\" + server_id + \"')\";\n",
       "      cell.notebook.kernel.execute(cmd_destroy);\n",
       "    }\n",
       "  }\n",
       "\n",
       "  /**\n",
       "   * Handle when a new output is added\n",
       "   */\n",
       "  function handleAddOutput(event, handle) {\n",
       "    const output_area = handle.output_area;\n",
       "    const output = handle.output;\n",
       "\n",
       "    // limit handleAddOutput to display_data with EXEC_MIME_TYPE content only\n",
       "    if ((output.output_type != \"display_data\") || (!Object.prototype.hasOwnProperty.call(output.data, EXEC_MIME_TYPE))) {\n",
       "      return\n",
       "    }\n",
       "\n",
       "    const toinsert = output_area.element.find(\".\" + CLASS_NAME.split(' ')[0]);\n",
       "\n",
       "    if (output.metadata[EXEC_MIME_TYPE][\"id\"] !== undefined) {\n",
       "      toinsert[toinsert.length - 1].firstChild.textContent = output.data[JS_MIME_TYPE];\n",
       "      // store reference to embed id on output_area\n",
       "      output_area._bokeh_element_id = output.metadata[EXEC_MIME_TYPE][\"id\"];\n",
       "    }\n",
       "    if (output.metadata[EXEC_MIME_TYPE][\"server_id\"] !== undefined) {\n",
       "      const bk_div = document.createElement(\"div\");\n",
       "      bk_div.innerHTML = output.data[HTML_MIME_TYPE];\n",
       "      const script_attrs = bk_div.children[0].attributes;\n",
       "      for (let i = 0; i < script_attrs.length; i++) {\n",
       "        toinsert[toinsert.length - 1].firstChild.setAttribute(script_attrs[i].name, script_attrs[i].value);\n",
       "        toinsert[toinsert.length - 1].firstChild.textContent = bk_div.children[0].textContent\n",
       "      }\n",
       "      // store reference to server id on output_area\n",
       "      output_area._bokeh_server_id = output.metadata[EXEC_MIME_TYPE][\"server_id\"];\n",
       "    }\n",
       "  }\n",
       "\n",
       "  function register_renderer(events, OutputArea) {\n",
       "\n",
       "    function append_mime(data, metadata, element) {\n",
       "      // create a DOM node to render to\n",
       "      const toinsert = this.create_output_subarea(\n",
       "        metadata,\n",
       "        CLASS_NAME,\n",
       "        EXEC_MIME_TYPE\n",
       "      );\n",
       "      this.keyboard_manager.register_events(toinsert);\n",
       "      // Render to node\n",
       "      const props = {data: data, metadata: metadata[EXEC_MIME_TYPE]};\n",
       "      render(props, toinsert[toinsert.length - 1]);\n",
       "      element.append(toinsert);\n",
       "      return toinsert\n",
       "    }\n",
       "\n",
       "    /* Handle when an output is cleared or removed */\n",
       "    events.on('clear_output.CodeCell', handleClearOutput);\n",
       "    events.on('delete.Cell', handleClearOutput);\n",
       "\n",
       "    /* Handle when a new output is added */\n",
       "    events.on('output_added.OutputArea', handleAddOutput);\n",
       "\n",
       "    /**\n",
       "     * Register the mime type and append_mime function with output_area\n",
       "     */\n",
       "    OutputArea.prototype.register_mime_type(EXEC_MIME_TYPE, append_mime, {\n",
       "      /* Is output safe? */\n",
       "      safe: true,\n",
       "      /* Index of renderer in `output_area.display_order` */\n",
       "      index: 0\n",
       "    });\n",
       "  }\n",
       "\n",
       "  // register the mime type if in Jupyter Notebook environment and previously unregistered\n",
       "  if (root.Jupyter !== undefined) {\n",
       "    const events = require('base/js/events');\n",
       "    const OutputArea = require('notebook/js/outputarea').OutputArea;\n",
       "\n",
       "    if (OutputArea.prototype.mime_types().indexOf(EXEC_MIME_TYPE) == -1) {\n",
       "      register_renderer(events, OutputArea);\n",
       "    }\n",
       "  }\n",
       "\n",
       "  \n",
       "  if (typeof (root._bokeh_timeout) === \"undefined\" || force === true) {\n",
       "    root._bokeh_timeout = Date.now() + 5000;\n",
       "    root._bokeh_failed_load = false;\n",
       "  }\n",
       "\n",
       "  const NB_LOAD_WARNING = {'data': {'text/html':\n",
       "     \"<div style='background-color: #fdd'>\\n\"+\n",
       "     \"<p>\\n\"+\n",
       "     \"BokehJS does not appear to have successfully loaded. If loading BokehJS from CDN, this \\n\"+\n",
       "     \"may be due to a slow or bad network connection. Possible fixes:\\n\"+\n",
       "     \"</p>\\n\"+\n",
       "     \"<ul>\\n\"+\n",
       "     \"<li>re-rerun `output_notebook()` to attempt to load from CDN again, or</li>\\n\"+\n",
       "     \"<li>use INLINE resources instead, as so:</li>\\n\"+\n",
       "     \"</ul>\\n\"+\n",
       "     \"<code>\\n\"+\n",
       "     \"from bokeh.resources import INLINE\\n\"+\n",
       "     \"output_notebook(resources=INLINE)\\n\"+\n",
       "     \"</code>\\n\"+\n",
       "     \"</div>\"}};\n",
       "\n",
       "  function display_loaded() {\n",
       "    const el = document.getElementById(\"1003\");\n",
       "    if (el != null) {\n",
       "      el.textContent = \"BokehJS is loading...\";\n",
       "    }\n",
       "    if (root.Bokeh !== undefined) {\n",
       "      if (el != null) {\n",
       "        el.textContent = \"BokehJS \" + root.Bokeh.version + \" successfully loaded.\";\n",
       "      }\n",
       "    } else if (Date.now() < root._bokeh_timeout) {\n",
       "      setTimeout(display_loaded, 100)\n",
       "    }\n",
       "  }\n",
       "\n",
       "\n",
       "  function run_callbacks() {\n",
       "    try {\n",
       "      root._bokeh_onload_callbacks.forEach(function(callback) {\n",
       "        if (callback != null)\n",
       "          callback();\n",
       "      });\n",
       "    } finally {\n",
       "      delete root._bokeh_onload_callbacks\n",
       "    }\n",
       "    console.debug(\"Bokeh: all callbacks have finished\");\n",
       "  }\n",
       "\n",
       "  function load_libs(css_urls, js_urls, callback) {\n",
       "    if (css_urls == null) css_urls = [];\n",
       "    if (js_urls == null) js_urls = [];\n",
       "\n",
       "    root._bokeh_onload_callbacks.push(callback);\n",
       "    if (root._bokeh_is_loading > 0) {\n",
       "      console.debug(\"Bokeh: BokehJS is being loaded, scheduling callback at\", now());\n",
       "      return null;\n",
       "    }\n",
       "    if (js_urls == null || js_urls.length === 0) {\n",
       "      run_callbacks();\n",
       "      return null;\n",
       "    }\n",
       "    console.debug(\"Bokeh: BokehJS not loaded, scheduling load and callback at\", now());\n",
       "    root._bokeh_is_loading = css_urls.length + js_urls.length;\n",
       "\n",
       "    function on_load() {\n",
       "      root._bokeh_is_loading--;\n",
       "      if (root._bokeh_is_loading === 0) {\n",
       "        console.debug(\"Bokeh: all BokehJS libraries/stylesheets loaded\");\n",
       "        run_callbacks()\n",
       "      }\n",
       "    }\n",
       "\n",
       "    function on_error(url) {\n",
       "      console.error(\"failed to load \" + url);\n",
       "    }\n",
       "\n",
       "    for (let i = 0; i < css_urls.length; i++) {\n",
       "      const url = css_urls[i];\n",
       "      const element = document.createElement(\"link\");\n",
       "      element.onload = on_load;\n",
       "      element.onerror = on_error.bind(null, url);\n",
       "      element.rel = \"stylesheet\";\n",
       "      element.type = \"text/css\";\n",
       "      element.href = url;\n",
       "      console.debug(\"Bokeh: injecting link tag for BokehJS stylesheet: \", url);\n",
       "      document.body.appendChild(element);\n",
       "    }\n",
       "\n",
       "    for (let i = 0; i < js_urls.length; i++) {\n",
       "      const url = js_urls[i];\n",
       "      const element = document.createElement('script');\n",
       "      element.onload = on_load;\n",
       "      element.onerror = on_error.bind(null, url);\n",
       "      element.async = false;\n",
       "      element.src = url;\n",
       "      console.debug(\"Bokeh: injecting script tag for BokehJS library: \", url);\n",
       "      document.head.appendChild(element);\n",
       "    }\n",
       "  };\n",
       "\n",
       "  function inject_raw_css(css) {\n",
       "    const element = document.createElement(\"style\");\n",
       "    element.appendChild(document.createTextNode(css));\n",
       "    document.body.appendChild(element);\n",
       "  }\n",
       "\n",
       "  \n",
       "  const js_urls = [\"https://cdn.bokeh.org/bokeh/release/bokeh-2.4.2.min.js\", \"https://cdn.bokeh.org/bokeh/release/bokeh-gl-2.4.2.min.js\", \"https://cdn.bokeh.org/bokeh/release/bokeh-widgets-2.4.2.min.js\", \"https://cdn.bokeh.org/bokeh/release/bokeh-tables-2.4.2.min.js\", \"https://cdn.bokeh.org/bokeh/release/bokeh-mathjax-2.4.2.min.js\", \"https://unpkg.com/@holoviz/panel@0.13.1/dist/panel.min.js\"];\n",
       "  const css_urls = [];\n",
       "  \n",
       "\n",
       "  const inline_js = [\n",
       "    function(Bokeh) {\n",
       "      Bokeh.set_log_level(\"info\");\n",
       "    },\n",
       "    function(Bokeh) {\n",
       "    \n",
       "    \n",
       "    }\n",
       "  ];\n",
       "\n",
       "  function run_inline_js() {\n",
       "    \n",
       "    if (root.Bokeh !== undefined || force === true) {\n",
       "      \n",
       "    for (let i = 0; i < inline_js.length; i++) {\n",
       "      inline_js[i].call(root, root.Bokeh);\n",
       "    }\n",
       "    if (force === true) {\n",
       "        display_loaded();\n",
       "      }} else if (Date.now() < root._bokeh_timeout) {\n",
       "      setTimeout(run_inline_js, 100);\n",
       "    } else if (!root._bokeh_failed_load) {\n",
       "      console.log(\"Bokeh: BokehJS failed to load within specified timeout.\");\n",
       "      root._bokeh_failed_load = true;\n",
       "    } else if (force !== true) {\n",
       "      const cell = $(document.getElementById(\"1003\")).parents('.cell').data().cell;\n",
       "      cell.output_area.append_execute_result(NB_LOAD_WARNING)\n",
       "    }\n",
       "\n",
       "  }\n",
       "\n",
       "  if (root._bokeh_is_loading === 0) {\n",
       "    console.debug(\"Bokeh: BokehJS loaded, going straight to plotting\");\n",
       "    run_inline_js();\n",
       "  } else {\n",
       "    load_libs(css_urls, js_urls, function() {\n",
       "      console.debug(\"Bokeh: BokehJS plotting callback run at\", now());\n",
       "      run_inline_js();\n",
       "    });\n",
       "  }\n",
       "}(window));"
      ],
      "application/vnd.bokehjs_load.v0+json": "\n(function(root) {\n  function now() {\n    return new Date();\n  }\n\n  const force = true;\n\n  if (typeof root._bokeh_onload_callbacks === \"undefined\" || force === true) {\n    root._bokeh_onload_callbacks = [];\n    root._bokeh_is_loading = undefined;\n  }\n\n  \n\n  \n  if (typeof (root._bokeh_timeout) === \"undefined\" || force === true) {\n    root._bokeh_timeout = Date.now() + 5000;\n    root._bokeh_failed_load = false;\n  }\n\n  const NB_LOAD_WARNING = {'data': {'text/html':\n     \"<div style='background-color: #fdd'>\\n\"+\n     \"<p>\\n\"+\n     \"BokehJS does not appear to have successfully loaded. If loading BokehJS from CDN, this \\n\"+\n     \"may be due to a slow or bad network connection. Possible fixes:\\n\"+\n     \"</p>\\n\"+\n     \"<ul>\\n\"+\n     \"<li>re-rerun `output_notebook()` to attempt to load from CDN again, or</li>\\n\"+\n     \"<li>use INLINE resources instead, as so:</li>\\n\"+\n     \"</ul>\\n\"+\n     \"<code>\\n\"+\n     \"from bokeh.resources import INLINE\\n\"+\n     \"output_notebook(resources=INLINE)\\n\"+\n     \"</code>\\n\"+\n     \"</div>\"}};\n\n  function display_loaded() {\n    const el = document.getElementById(\"1003\");\n    if (el != null) {\n      el.textContent = \"BokehJS is loading...\";\n    }\n    if (root.Bokeh !== undefined) {\n      if (el != null) {\n        el.textContent = \"BokehJS \" + root.Bokeh.version + \" successfully loaded.\";\n      }\n    } else if (Date.now() < root._bokeh_timeout) {\n      setTimeout(display_loaded, 100)\n    }\n  }\n\n\n  function run_callbacks() {\n    try {\n      root._bokeh_onload_callbacks.forEach(function(callback) {\n        if (callback != null)\n          callback();\n      });\n    } finally {\n      delete root._bokeh_onload_callbacks\n    }\n    console.debug(\"Bokeh: all callbacks have finished\");\n  }\n\n  function load_libs(css_urls, js_urls, callback) {\n    if (css_urls == null) css_urls = [];\n    if (js_urls == null) js_urls = [];\n\n    root._bokeh_onload_callbacks.push(callback);\n    if (root._bokeh_is_loading > 0) {\n      console.debug(\"Bokeh: BokehJS is being loaded, scheduling callback at\", now());\n      return null;\n    }\n    if (js_urls == null || js_urls.length === 0) {\n      run_callbacks();\n      return null;\n    }\n    console.debug(\"Bokeh: BokehJS not loaded, scheduling load and callback at\", now());\n    root._bokeh_is_loading = css_urls.length + js_urls.length;\n\n    function on_load() {\n      root._bokeh_is_loading--;\n      if (root._bokeh_is_loading === 0) {\n        console.debug(\"Bokeh: all BokehJS libraries/stylesheets loaded\");\n        run_callbacks()\n      }\n    }\n\n    function on_error(url) {\n      console.error(\"failed to load \" + url);\n    }\n\n    for (let i = 0; i < css_urls.length; i++) {\n      const url = css_urls[i];\n      const element = document.createElement(\"link\");\n      element.onload = on_load;\n      element.onerror = on_error.bind(null, url);\n      element.rel = \"stylesheet\";\n      element.type = \"text/css\";\n      element.href = url;\n      console.debug(\"Bokeh: injecting link tag for BokehJS stylesheet: \", url);\n      document.body.appendChild(element);\n    }\n\n    for (let i = 0; i < js_urls.length; i++) {\n      const url = js_urls[i];\n      const element = document.createElement('script');\n      element.onload = on_load;\n      element.onerror = on_error.bind(null, url);\n      element.async = false;\n      element.src = url;\n      console.debug(\"Bokeh: injecting script tag for BokehJS library: \", url);\n      document.head.appendChild(element);\n    }\n  };\n\n  function inject_raw_css(css) {\n    const element = document.createElement(\"style\");\n    element.appendChild(document.createTextNode(css));\n    document.body.appendChild(element);\n  }\n\n  \n  const js_urls = [\"https://cdn.bokeh.org/bokeh/release/bokeh-2.4.2.min.js\", \"https://cdn.bokeh.org/bokeh/release/bokeh-gl-2.4.2.min.js\", \"https://cdn.bokeh.org/bokeh/release/bokeh-widgets-2.4.2.min.js\", \"https://cdn.bokeh.org/bokeh/release/bokeh-tables-2.4.2.min.js\", \"https://cdn.bokeh.org/bokeh/release/bokeh-mathjax-2.4.2.min.js\", \"https://unpkg.com/@holoviz/panel@0.13.1/dist/panel.min.js\"];\n  const css_urls = [];\n  \n\n  const inline_js = [\n    function(Bokeh) {\n      Bokeh.set_log_level(\"info\");\n    },\n    function(Bokeh) {\n    \n    \n    }\n  ];\n\n  function run_inline_js() {\n    \n    if (root.Bokeh !== undefined || force === true) {\n      \n    for (let i = 0; i < inline_js.length; i++) {\n      inline_js[i].call(root, root.Bokeh);\n    }\n    if (force === true) {\n        display_loaded();\n      }} else if (Date.now() < root._bokeh_timeout) {\n      setTimeout(run_inline_js, 100);\n    } else if (!root._bokeh_failed_load) {\n      console.log(\"Bokeh: BokehJS failed to load within specified timeout.\");\n      root._bokeh_failed_load = true;\n    } else if (force !== true) {\n      const cell = $(document.getElementById(\"1003\")).parents('.cell').data().cell;\n      cell.output_area.append_execute_result(NB_LOAD_WARNING)\n    }\n\n  }\n\n  if (root._bokeh_is_loading === 0) {\n    console.debug(\"Bokeh: BokehJS loaded, going straight to plotting\");\n    run_inline_js();\n  } else {\n    load_libs(css_urls, js_urls, function() {\n      console.debug(\"Bokeh: BokehJS plotting callback run at\", now());\n      run_inline_js();\n    });\n  }\n}(window));"
     },
     "metadata": {},
     "output_type": "display_data"
    }
   ],
   "source": [
    "import numpy as np\n",
    "import pandas as pd\n",
    "\n",
    "import bokeh.io\n",
    "\n",
    "import panel as pn\n",
    "import datetime as dt\n",
    "\n",
    "from bokeh.tile_providers import CARTODBPOSITRON, get_provider\n",
    "\n",
    "tile_provider = get_provider(CARTODBPOSITRON)\n",
    "\n",
    "bokeh.io.output_notebook()\n"
   ]
  },
  {
   "cell_type": "code",
   "execution_count": 2,
   "id": "c1ea07d8-4e01-42c2-aeba-3569485d9804",
   "metadata": {},
   "outputs": [
    {
     "data": {
      "text/plain": [
       "'/opt/miniconda3/envs/basics/lib/python3.9/site-packages/panel/__init__.py'"
      ]
     },
     "execution_count": 2,
     "metadata": {},
     "output_type": "execute_result"
    }
   ],
   "source": [
    "import inspect\n",
    "\n",
    "inspect.getfile(pn)"
   ]
  },
  {
   "cell_type": "markdown",
   "id": "3e511e52-27ad-418f-8cd3-e1da2941fefd",
   "metadata": {
    "pycharm": {
     "name": "#%% md\n"
    },
    "tags": []
   },
   "source": [
    "# Load and prep data"
   ]
  },
  {
   "cell_type": "code",
   "execution_count": 3,
   "id": "a86ca861-a315-4282-984a-53b930cd5ee0",
   "metadata": {
    "pycharm": {
     "name": "#%%\n"
    }
   },
   "outputs": [],
   "source": [
    "# Helper fxn to set coords right\n",
    "def mercator_creator(df, lat='lat', lon='lon'):\n",
    "    # from https://www.youtube.com/watch?v=BojxegBh9_4\n",
    "    \n",
    "    k = 6378137\n",
    "    df['x'] = k * np.radians(df[lon])\n",
    "    df['y'] = np.log(np.tan((90 + df[lat]) * np.pi / 360)) * k\n",
    "    \n",
    "    return df"
   ]
  },
  {
   "cell_type": "code",
   "execution_count": 4,
   "id": "93c40208-ef86-4847-bdfd-ab785e52cfa4",
   "metadata": {
    "pycharm": {
     "name": "#%%\n"
    }
   },
   "outputs": [],
   "source": [
    "# Load in the metadata\n",
    "ferm_locations = pd.read_csv(\"./data/ferm.csv\")\n",
    "\n",
    "# Split the Lat-Long column into two columns, Lat and Long\n",
    "ferm_locations[['Lat', 'Long']] = ferm_locations['Lat-Long'].str.split(', ', 1, expand=True)\n",
    "\n",
    "# Create a new dataframe only if the point has a valid Lat and Long\n",
    "ferm_locations_final = ferm_locations[ferm_locations['Lat'].notna()].copy()\n",
    "\n",
    "# Convert from a string, and put in columns called Latitude and Longitude\n",
    "ferm_locations_final.loc[:,'Latitude1'] = pd.to_numeric(ferm_locations_final['Lat'],errors='coerce')\n",
    "ferm_locations_final.loc[:,'Longitude1'] = pd.to_numeric(ferm_locations_final['Long'],errors='coerce')\n",
    "\n",
    "# Add x, y for lat long\n",
    "ferm_locations_final = mercator_creator(ferm_locations_final, lat='Latitude1', lon='Longitude1')\n",
    "\n",
    "class_options = list(ferm_locations_final.Class.unique())\n",
    "\n",
    "ferm_locations_final.Acquisition_date = pd.to_datetime(ferm_locations_final.Acquisition_date)\n",
    "ferm_locations_final.Extract_date = pd.to_datetime(ferm_locations_final.Extract_date)\n",
    "ferm_locations_final.Arrival_date = pd.to_datetime(ferm_locations_final.Arrival_date)"
   ]
  },
  {
   "cell_type": "markdown",
   "id": "27e1a3a2-ed65-44d3-a0bf-42c9fd7d0fc1",
   "metadata": {
    "pycharm": {
     "name": "#%% md\n"
    }
   },
   "source": [
    "# Panel"
   ]
  },
  {
   "cell_type": "code",
   "execution_count": 5,
   "id": "e7cb91ca-ad43-41a1-b177-419e5055c8e9",
   "metadata": {
    "pycharm": {
     "name": "#%%\n"
    }
   },
   "outputs": [],
   "source": [
    "# inital_date_range = dt.datetime(2021, 12, 1), dt.datetime(2022, 8, 1)"
   ]
  },
  {
   "cell_type": "code",
   "execution_count": 6,
   "id": "d33bcc8e-8f23-47ee-980e-f4587855a26a",
   "metadata": {
    "pycharm": {
     "name": "#%%\n"
    }
   },
   "outputs": [],
   "source": [
    "def extract_sub_df(df, ferm_class_list, country_list, date_range):\n",
    "    \"\"\"Extract sub data frame for country and class over a date range.\"\"\"\n",
    "    inds = (\n",
    "        (df[\"Class\"].isin(ferm_class_list))\n",
    "        & (df[\"Country_made\"].isin(country_list))\n",
    "        & (df[\"Acquisition_date\"] >= date_range[0])\n",
    "        & (df[\"Acquisition_date\"] <= date_range[1])\n",
    "    )\n",
    "\n",
    "    return df.loc[inds, :]\n"
   ]
  },
  {
   "cell_type": "code",
   "execution_count": 7,
   "id": "a71d6d08-ca7c-47fb-8b6f-8c1262544f19",
   "metadata": {
    "pycharm": {
     "name": "#%%\n"
    }
   },
   "outputs": [],
   "source": [
    "# date_range_slider_old = pn.widgets.DateRangeSlider(\n",
    "#     name='Date Range Slider',\n",
    "#     start=dt.datetime(2021, 12, 1), end=dt.datetime(2022, 8, 1),\n",
    "#     value=(dt.datetime(2021, 12, 1), dt.datetime(2022, 8, 1))\n",
    "# )"
   ]
  },
  {
   "cell_type": "code",
   "execution_count": 8,
   "id": "e35a44e2-0285-4557-b759-7284081e6e5c",
   "metadata": {
    "pycharm": {
     "name": "#%%\n"
    }
   },
   "outputs": [],
   "source": [
    "# Class_ID = 'Dairy'\n",
    "# Country = 'France'\n",
    "\n",
    "# @pn.depends(time_range=date_range_slider_old.param.value)\n",
    "# def plot_map_interactive(time_range):\n",
    "#     return plot_map(ferm_locations_final, Class_ID, Country, time_range)"
   ]
  },
  {
   "cell_type": "code",
   "execution_count": 9,
   "id": "6de1358f-29e2-4072-8588-afdd334ef99c",
   "metadata": {
    "pycharm": {
     "name": "#%%\n"
    }
   },
   "outputs": [],
   "source": [
    "# # Set dashboard layout\n",
    "# widgets = pn.Column(pn.Spacer(height=30), date_range_slider_old, width=300)\n",
    "\n",
    "# pn.Row(plot_map_interactive, widgets)"
   ]
  },
  {
   "cell_type": "markdown",
   "id": "0d62444c-307c-4357-be10-fbe1dee5c91e",
   "metadata": {
    "pycharm": {
     "name": "#%% md\n"
    }
   },
   "source": [
    "# Bokeh (Faster)"
   ]
  },
  {
   "cell_type": "code",
   "execution_count": 10,
   "id": "0775aee8-619b-4b07-b332-d64ee9a079d9",
   "metadata": {
    "pycharm": {
     "name": "#%%\n"
    }
   },
   "outputs": [],
   "source": [
    "# date_range_slider_demo = pn.widgets.DateRangeSlider(\n",
    "#     name='Show Samples Between:',\n",
    "#     bar_color = '#37F0EC',\n",
    "#     start=dt.datetime(2021, 12, 1), end=dt.datetime(2022, 8, 1),\n",
    "#     value=(dt.datetime(2021, 12, 1), dt.datetime(2022, 8, 1))\n",
    "# )"
   ]
  },
  {
   "cell_type": "code",
   "execution_count": 11,
   "id": "2da365df-050b-449c-8344-0ae99f2913ea",
   "metadata": {
    "pycharm": {
     "name": "#%%\n"
    }
   },
   "outputs": [],
   "source": [
    "# Class_ID = 'Dairy'"
   ]
  },
  {
   "cell_type": "code",
   "execution_count": 12,
   "id": "1a7ad4c9-fb50-4d7e-95b3-b84e60b03713",
   "metadata": {
    "pycharm": {
     "name": "#%%\n"
    }
   },
   "outputs": [],
   "source": [
    "date_range_slider = pn.widgets.DatetimeRangePicker(\n",
    "    name='Show Samples Between:',\n",
    "    enable_time = False,\n",
    "    start=dt.datetime(2021, 12, 1), end=dt.datetime(2022, 8, 1),\n",
    "    value=(dt.datetime(2021, 12, 1), dt.datetime(2022, 8, 1))\n",
    ")"
   ]
  },
  {
   "cell_type": "code",
   "execution_count": 13,
   "id": "176501da-de6d-40c6-ba05-cf22625ae274",
   "metadata": {
    "pycharm": {
     "name": "#%%\n"
    }
   },
   "outputs": [],
   "source": [
    "country_choice = pn.widgets.MultiChoice(name='Country', value=['France', 'Thailand'],\n",
    "    options=list(ferm_locations_final.Country_obtained.unique()))"
   ]
  },
  {
   "cell_type": "code",
   "execution_count": 14,
   "id": "7b38f4ab-8093-4e48-8ac1-c71d4ae24472",
   "metadata": {
    "pycharm": {
     "name": "#%%\n"
    }
   },
   "outputs": [],
   "source": [
    "class_choice = pn.widgets.MultiChoice(name='Class', value=['Dairy', 'Fish'],\n",
    "    options=list(ferm_locations_final.Class.unique()))"
   ]
  },
  {
   "cell_type": "code",
   "execution_count": 15,
   "id": "f8408548-f5de-453b-9c38-0724c2d02f89",
   "metadata": {
    "pycharm": {
     "name": "#%%\n"
    }
   },
   "outputs": [],
   "source": [
    "def plot_map_bokeh(ferm_locations_final, ferm_class_list=class_choice.value, date_range=date_range_slider.value, country_list=country_choice.value):\n",
    "    \"\"\"Make a map in bokeh.\"\"\"\n",
    "\n",
    "    sub_df = extract_sub_df(ferm_locations_final, ferm_class_list, country_list, date_range)\n",
    "\n",
    "    p = bokeh.plotting.figure(\n",
    "        frame_height=400,\n",
    "        frame_width=700,\n",
    "        x_axis_label=\"Latitude\",\n",
    "        y_axis_label=\"Longitude\",\n",
    "        tools =['wheel_zoom', 'pan', 'reset', 'tap'],\n",
    "        x_axis_type = 'mercator',\n",
    "        y_axis_type = 'mercator',\n",
    "        x_range = [ferm_locations_final.x.min()-100000, ferm_locations_final.x.max() + 100000],\n",
    "        y_range = [ferm_locations_final.y.min()-100000, ferm_locations_final.y.max() + 100000]\n",
    "\n",
    "    )\n",
    "\n",
    "    # Set up data source; this is what gets changed in the callback\n",
    "    source = bokeh.models.ColumnDataSource(\n",
    "        dict(\n",
    "            x=sub_df[\"x\"].values,\n",
    "            y=sub_df[\"y\"].values,\n",
    "            date=sub_df[\"Acquisition_date\"].values,\n",
    "            Class=sub_df['Class'].values,\n",
    "            Country=sub_df['Country_obtained'].values,\n",
    "        )\n",
    "    )\n",
    "    \n",
    "    Class_list=ferm_locations_final.Class.unique()\n",
    "    Class_len = len(Class_list)\n",
    "\n",
    "    # Mapping of color for glyphs\n",
    "    mapper = bokeh.transform.factor_cmap('Class', palette=bokeh.palettes.Category20[15], factors=Class_list)\n",
    "\n",
    "    p.circle(source=source, x=\"x\", y=\"y\", color=mapper, size=7, line_alpha=0)\n",
    "\n",
    "    p.toolbar_location = 'above'\n",
    "    p.add_tile(tile_provider)\n",
    "    p.add_tools(bokeh.models.BoxZoomTool(match_aspect=True))\n",
    "    \n",
    "    hover = bokeh.models.HoverTool()\n",
    "    \n",
    "    hover.tooltips = \"\"\"\n",
    "    <font face=\"Arial\" size=\"3\">\n",
    "    <div>\n",
    "        <div><strong>Ferment Class:  </strong>@Class</div>\n",
    "        <div><strong>Name: </strong>@x</div>\n",
    "    </div>\n",
    "    </font>\n",
    "    \"\"\"\n",
    "    p.add_tools(hover)\n",
    "    \n",
    "    \n",
    "    \n",
    "    url = \"https://github.com/lianamerk/hovercal/blob/main/examples/fruit_hovercal_1.png?raw=true\"\n",
    "    taptool = p.select(type=bokeh.models.TapTool)\n",
    "    taptool.callback = bokeh.models.OpenURL(url=url)\n",
    "\n",
    "    return p\n",
    "\n",
    "\n",
    "# # Take a look\n",
    "# p = plot_map_bokeh(ferm_locations_final, \"Dairy\", \"France\", date_range=inital_date_range)\n",
    "\n",
    "# bokeh.io.show(p)"
   ]
  },
  {
   "cell_type": "code",
   "execution_count": 16,
   "id": "4c90bf9f-c65b-4199-9b7d-89abdd9be047",
   "metadata": {
    "pycharm": {
     "name": "#%%\n"
    }
   },
   "outputs": [],
   "source": [
    "p_pane = pn.pane.Bokeh(plot_map_bokeh(ferm_locations_final))"
   ]
  },
  {
   "cell_type": "code",
   "execution_count": 17,
   "id": "54b6b495-1429-4b9f-be7c-34429cea368f",
   "metadata": {
    "pycharm": {
     "name": "#%%\n"
    }
   },
   "outputs": [],
   "source": [
    "ferm_class = 'Dairy'\n",
    "# country = 'France'"
   ]
  },
  {
   "cell_type": "code",
   "execution_count": 18,
   "id": "1104aa90-7515-44e3-8b66-c8b959f33201",
   "metadata": {
    "pycharm": {
     "name": "#%%\n"
    }
   },
   "outputs": [],
   "source": [
    "def date_interval_callback(target, event):\n",
    "    ferm_class_list = class_choice.value\n",
    "    country_list = country_choice.value\n",
    "    date_range = event.new\n",
    "    \n",
    "    inds = (\n",
    "        (ferm_locations_final[\"Class\"].isin(ferm_class_list))\n",
    "        & (ferm_locations_final[\"Country_obtained\"].isin(country_list))\n",
    "        & (ferm_locations_final[\"Acquisition_date\"] >= date_range[0])\n",
    "        & (ferm_locations_final[\"Acquisition_date\"] <= date_range[1])\n",
    "    )\n",
    "\n",
    "    sub_df = ferm_locations_final.loc[inds, [\"x\", \"y\", \"Acquisition_date\", \"Class\", \"Country_obtained\"]]\n",
    "\n",
    "    print(len(sub_df))\n",
    "    gr = target.object.renderers[0]\n",
    "    source = gr.data_source\n",
    "    source.data = {name : [] for name in ['x', 'y', 'date', 'Class', 'Country']}\n",
    "\n",
    "    source.data[\"x\"] = sub_df[\"x\"].values\n",
    "    source.data[\"y\"] = sub_df[\"y\"].values\n",
    "    source.data[\"date\"] = sub_df[\"Acquisition_date\"].values\n",
    "    source.data[\"Class\"] = sub_df[\"Class\"].values\n",
    "    source.data[\"Country\"] = sub_df[\"Country_obtained\"].values\n",
    "\n",
    "    \n",
    "    # print(source.data)"
   ]
  },
  {
   "cell_type": "code",
   "execution_count": 19,
   "id": "5001fd26-e021-4acb-ae93-1f01b61d7e19",
   "metadata": {
    "pycharm": {
     "name": "#%%\n"
    }
   },
   "outputs": [],
   "source": [
    "def country_callback(target, event):\n",
    "    ferm_class_list = class_choice.value\n",
    "    country_list = event.new\n",
    "    date_range = date_range_slider.value\n",
    "    \n",
    "    inds = (\n",
    "        (ferm_locations_final[\"Class\"].isin(ferm_class_list))\n",
    "        & (ferm_locations_final[\"Country_obtained\"].isin(country_list))\n",
    "        & (ferm_locations_final[\"Acquisition_date\"] >= date_range[0])\n",
    "        & (ferm_locations_final[\"Acquisition_date\"] <= date_range[1])\n",
    "    )\n",
    "\n",
    "    sub_df = ferm_locations_final.loc[inds, [\"x\", \"y\", \"Acquisition_date\", \"Class\", \"Country_obtained\"]]\n",
    "\n",
    "    print(sub_df)\n",
    "    gr = target.object.renderers[0]\n",
    "    source = gr.data_source\n",
    "    source.data = {name : [] for name in ['x', 'y', 'date', 'Class', 'Country']}\n",
    "\n",
    "    source.data[\"x\"] = sub_df[\"x\"].values\n",
    "    source.data[\"y\"] = sub_df[\"y\"].values\n",
    "    source.data[\"date\"] = sub_df[\"Acquisition_date\"].values\n",
    "    source.data[\"Class\"] = sub_df[\"Class\"].values\n",
    "    source.data[\"Country\"] = sub_df[\"Country_obtained\"].values\n",
    "    \n",
    "    # print(source.data)"
   ]
  },
  {
   "cell_type": "code",
   "execution_count": 20,
   "id": "e2440e70-e773-4ec5-8973-3c7812f3596d",
   "metadata": {
    "pycharm": {
     "name": "#%%\n"
    }
   },
   "outputs": [],
   "source": [
    "def class_callback(target, event):\n",
    "    print(event.new)\n",
    "    ferm_class_list = event.new\n",
    "    country_list = country_choice.value\n",
    "    date_range = date_range_slider.value\n",
    "    \n",
    "    inds = (\n",
    "        (ferm_locations_final[\"Class\"].isin(ferm_class_list))\n",
    "        & (ferm_locations_final[\"Country_obtained\"].isin(country_list))\n",
    "        & (ferm_locations_final[\"Acquisition_date\"] >= date_range[0])\n",
    "        & (ferm_locations_final[\"Acquisition_date\"] <= date_range[1])\n",
    "    )\n",
    "\n",
    "    sub_df = ferm_locations_final.loc[inds, [\"x\", \"y\", \"Acquisition_date\", \"Class\", \"Country_obtained\"]]\n",
    "\n",
    "    gr = target.object.renderers[0]\n",
    "    source = gr.data_source\n",
    "    source.data = {name : [] for name in source.data}\n",
    "\n",
    "    source.data[\"x\"] = sub_df[\"x\"].values\n",
    "    source.data[\"y\"] = sub_df[\"y\"].values\n",
    "    source.data[\"date\"] = sub_df[\"Acquisition_date\"].values\n",
    "    source.data[\"Class\"] = sub_df[\"Class\"].values\n",
    "    source.data[\"Country\"] = sub_df[\"Country_obtained\"].values\n",
    "    print(source.data)\n",
    "   "
   ]
  },
  {
   "cell_type": "code",
   "execution_count": 21,
   "id": "bdd11dfb-6386-4010-a1e8-75fbf7b8e49d",
   "metadata": {
    "pycharm": {
     "name": "#%%\n"
    }
   },
   "outputs": [
    {
     "data": {
      "text/plain": [
       "Watcher(inst=DatetimeRangePicker(enable_time=False, end=datetime.datetime(2022, ..., name='Show Samples Between:', start=datetime.datetime(2021, ..., value=(datetime.datetime(2021, ...), cls=<class 'panel.widgets.input.DatetimeRangePicker'>, fn=<function Reactive.link.<locals>.link_cb at 0x7f8ca8929c10>, mode='args', onlychanged=True, parameter_names=('value',), what='value', queued=False, precedence=0)"
      ]
     },
     "execution_count": 21,
     "metadata": {},
     "output_type": "execute_result"
    }
   ],
   "source": [
    "date_range_slider.link(p_pane, callbacks={'value': date_interval_callback})"
   ]
  },
  {
   "cell_type": "code",
   "execution_count": 22,
   "id": "ebc84784-79e5-45f4-b712-b1327e79191e",
   "metadata": {
    "pycharm": {
     "name": "#%%\n"
    }
   },
   "outputs": [
    {
     "data": {
      "text/plain": [
       "Watcher(inst=MultiChoice(name='Country', options=['France', 'Singapore', ...], value=['France', 'Thailand']), cls=<class 'panel.widgets.select.MultiChoice'>, fn=<function Reactive.link.<locals>.link_cb at 0x7f8ca8929b80>, mode='args', onlychanged=True, parameter_names=('value',), what='value', queued=False, precedence=0)"
      ]
     },
     "execution_count": 22,
     "metadata": {},
     "output_type": "execute_result"
    }
   ],
   "source": [
    "country_choice.link(p_pane, callbacks={'value': country_callback})"
   ]
  },
  {
   "cell_type": "code",
   "execution_count": 23,
   "id": "90fc94e1-8780-4150-a002-8e945bb67a32",
   "metadata": {
    "pycharm": {
     "name": "#%%\n"
    }
   },
   "outputs": [
    {
     "data": {
      "text/plain": [
       "Watcher(inst=MultiChoice(name='Class', options=['Dairy', 'Control', ...], value=['Dairy', 'Fish']), cls=<class 'panel.widgets.select.MultiChoice'>, fn=<function Reactive.link.<locals>.link_cb at 0x7f8ca8c69160>, mode='args', onlychanged=True, parameter_names=('value',), what='value', queued=False, precedence=0)"
      ]
     },
     "execution_count": 23,
     "metadata": {},
     "output_type": "execute_result"
    }
   ],
   "source": [
    "class_choice.link(p_pane, callbacks={'value': class_callback})"
   ]
  },
  {
   "cell_type": "code",
   "execution_count": 24,
   "id": "48690d82-4df8-4b09-850f-cb54f6bb353a",
   "metadata": {
    "pycharm": {
     "name": "#%%\n"
    }
   },
   "outputs": [
    {
     "name": "stderr",
     "output_type": "stream",
     "text": [
      "WARNING:param.Row00106: Displaying Panel objects in the notebook requires the panel extension to be loaded. Ensure you run pn.extension() before displaying objects in the notebook.\n"
     ]
    },
    {
     "data": {
      "text/plain": [
       "Row\n",
       "    [0] Bokeh(Figure)\n",
       "    [1] Spacer(width=15)\n",
       "    [2] Column\n",
       "        [0] DatetimeRangePicker(enable_time=False, end=datetime.datetime(2022, ..., name='Show Samples Between:', start=datetime.datetime(2021, ..., value=(datetime.datetime(2021, ...)\n",
       "        [1] MultiChoice(name='Country', options=['France', 'Singapore', ...], value=['France', 'Thailand'])\n",
       "        [2] MultiChoice(name='Class', options=['Dairy', 'Control', ...], value=['Dairy', 'Fish'])"
      ]
     },
     "execution_count": 24,
     "metadata": {},
     "output_type": "execute_result"
    }
   ],
   "source": [
    "map_panel = pn.Row(p_pane, pn.Spacer(width=15), pn.Column(date_range_slider, country_choice, class_choice))\n",
    "map_panel"
   ]
  },
  {
   "cell_type": "code",
   "execution_count": 25,
   "id": "4d951a2e-acbe-4f3b-9b83-c19ce5bdcc17",
   "metadata": {
    "pycharm": {
     "name": "#%%\n"
    }
   },
   "outputs": [],
   "source": [
    "map_panel.save('test.html', embed=True)\n"
   ]
  }
 ],
 "metadata": {
  "kernelspec": {
   "display_name": "Python 3 (ipykernel)",
   "language": "python",
   "name": "python3"
  },
  "language_info": {
   "codemirror_mode": {
    "name": "ipython",
    "version": 3
   },
   "file_extension": ".py",
   "mimetype": "text/x-python",
   "name": "python",
   "nbconvert_exporter": "python",
   "pygments_lexer": "ipython3",
   "version": "3.9.12"
  }
 },
 "nbformat": 4,
 "nbformat_minor": 5
}
