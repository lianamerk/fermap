{
 "cells": [
  {
   "cell_type": "code",
   "execution_count": 23,
   "id": "dca7e7f4-3ed6-49ae-8370-e07144dd210a",
   "metadata": {},
   "outputs": [],
   "source": [
    "import warnings\n",
    "\n",
    "import numpy as np\n",
    "import scipy.integrate\n",
    "\n",
    "import bokeh.application\n",
    "import bokeh.application.handlers\n",
    "import bokeh.layouts\n",
    "import bokeh.models\n",
    "import bokeh.palettes\n",
    "import bokeh.plotting\n",
    "\n",
    "import colorcet\n",
    "\n",
    "from jsfunctions import jsfuns"
   ]
  },
  {
   "cell_type": "code",
   "execution_count": 29,
   "id": "9c13b033-3bb8-4270-be41-4b5c6b994b7f",
   "metadata": {},
   "outputs": [],
   "source": [
    "gaus_funs = {\n",
    "\n",
    "\"gaussian_pulse\": \"\"\"\n",
    "function sPulse(t, t0, tau) {\n",
    "    return Math.exp(-4.0 * Math.pow((t - t0) / tau, 2));\n",
    "}\n",
    "\n",
    "\n",
    "function callback() {\n",
    "    let t0 = t0_slider.value;\n",
    "    let tau = tau_slider.value;\n",
    "    let t = cds.data['t'];\n",
    "    let s = cds.data['s'];\n",
    "\n",
    "    for (let i = 0; i < s.length; i++) {\n",
    "        s[i] = sPulse(t[i], t0, tau);\n",
    "    }\n",
    "\n",
    "    cds.change.emit();\n",
    "}\n",
    "\"\"\"   \n",
    "}"
   ]
  },
  {
   "cell_type": "code",
   "execution_count": 33,
   "id": "2b83f285-33bb-48bc-bcb4-aba38682d645",
   "metadata": {},
   "outputs": [],
   "source": [
    "def gaussian_pulse():\n",
    "    \"\"\"Make a plot of a Gaussian pulse/\n",
    "    \"\"\"\n",
    "    # t/s data for plotting\n",
    "    t_0 = 4.0\n",
    "    tau = 2.0\n",
    "    t = np.linspace(0, 10, 200)\n",
    "    s = np.exp(-4 * (t - t_0) ** 2 / tau ** 2)\n",
    "\n",
    "    # Place the data in a ColumnDataSource\n",
    "    cds = bokeh.models.ColumnDataSource(dict(t=t, s=s))\n",
    "\n",
    "    # Build the plot\n",
    "    p = bokeh.plotting.figure(\n",
    "        frame_height=200,\n",
    "        frame_width=400,\n",
    "        x_axis_label=\"time\",\n",
    "        y_axis_label=\"input signal\",\n",
    "        x_range=[0, 10],\n",
    "        y_range=[-0.02, 1.1],\n",
    "    )\n",
    "    p.line(source=cds, x=\"t\", y=\"s\", line_width=2)\n",
    "\n",
    "    t0_slider = bokeh.models.Slider(\n",
    "        title=\"t₀\", start=0, end=10, step=0.01, value=4.0, width=150\n",
    "    )\n",
    "    tau_slider = bokeh.models.Slider(\n",
    "        title=\"τ\", start=0, end=10, step=0.01, value=2.0, width=150\n",
    "    )\n",
    "\n",
    "    # JavaScript callback\n",
    "    js_code = gaus_funs[\"gaussian_pulse\"] + \"callback()\"\n",
    "    callback = bokeh.models.CustomJS(\n",
    "        args=dict(cds=cds, t0_slider=t0_slider, tau_slider=tau_slider), code=js_code,\n",
    "    )\n",
    "    t0_slider.js_on_change(\"value\", callback)\n",
    "    tau_slider.js_on_change(\"value\", callback)\n",
    "\n",
    "    # Lay out and return\n",
    "    return bokeh.layouts.row(\n",
    "        p, bokeh.models.Spacer(width=30), bokeh.layouts.column(t0_slider, tau_slider)\n",
    "    )"
   ]
  },
  {
   "cell_type": "code",
   "execution_count": 34,
   "id": "68b7abd1-867c-4dd9-8445-7ab60ab48a0a",
   "metadata": {},
   "outputs": [],
   "source": [
    "js_code = jsfuns[\"gaussian_pulse\"] + \"callback()\"\n"
   ]
  },
  {
   "cell_type": "code",
   "execution_count": null,
   "id": "287d96df-da2d-4ab0-bd18-9df6480c7db8",
   "metadata": {},
   "outputs": [],
   "source": []
  },
  {
   "cell_type": "code",
   "execution_count": 35,
   "id": "76804659-e5c1-4276-b262-14a8f52674bb",
   "metadata": {},
   "outputs": [],
   "source": [
    "bokeh.io.show(gaussian_pulse())"
   ]
  },
  {
   "cell_type": "code",
   "execution_count": null,
   "id": "1185ca54-0cf3-47cc-a324-477337853813",
   "metadata": {},
   "outputs": [],
   "source": []
  }
 ],
 "metadata": {
  "kernelspec": {
   "display_name": "Python 3 (ipykernel)",
   "language": "python",
   "name": "python3"
  },
  "language_info": {
   "codemirror_mode": {
    "name": "ipython",
    "version": 3
   },
   "file_extension": ".py",
   "mimetype": "text/x-python",
   "name": "python",
   "nbconvert_exporter": "python",
   "pygments_lexer": "ipython3",
   "version": "3.9.12"
  }
 },
 "nbformat": 4,
 "nbformat_minor": 5
}
